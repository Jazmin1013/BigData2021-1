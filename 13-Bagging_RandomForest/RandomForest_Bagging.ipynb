{
 "cells": [
  {
   "cell_type": "markdown",
   "metadata": {},
   "source": [
    "### Random Forest\n",
    "\n",
    "#### Bagging\n",
    "A continuación veremos un conjunto de métodos de clasificación conocidos como ensambles cuya idea es mejorar la predicción de clasificadores débiles o inestables mediante el promedio o el promedio ponderado de estos. El primero en estudio es Bagging, un caso en particular de los Random Forest en donde se consideran todos los features para realizar el proceso de particionamiento del espacio de las covariables.\n",
    "\n",
    "Bootstrap agregation. Conocido popularmente como Bagging promedia la predicción sobre una colección de muestras Boostrap, reduciendo de esta manera la varianza."
   ]
  },
  {
   "cell_type": "markdown",
   "metadata": {},
   "source": [
    "El estimador Bagging es definido por:\n",
    "$$\n",
    "\\hat{f}_{bag}(x)=\\dfrac{1}{B} \\sum_{b=1}^{B}f^{*b}\n",
    "$$\n",
    "\n",
    "\n",
    "Bagging puede reducir drásticamente la varianza de clasificadores inestables como árboles, lo que conduce a una mejor predicción. Un argumento simple muestra por qué Bagging ayuda a bajar la pérdida por el error cuadrático, en resumen, porque el promedio reduce la varianza y deja el sesgo sin cambios.\n",
    "\n",
    "Suponga que nuestras observaciones de entrenamiento $(x_i, y_i)$, $i = 1, ..., N$ se extraen independientemente de una distribución $\\mathcal{P}$, y considere el estimador ideal  $f_{bag}= E_\\mathcal{P}[\\hat{f}^{*}(x)]$. Aquí x es fijo y el conjunto de datos bootstrap consta de observaciones $(x^∗_i, y^∗_i)$, $i = 1, 2, ..., N$ muestreados de $\\mathcal{P}$. Note que $f_{bag}(x)$ es un estimador bagging extrayendo muestras Bootstrap de la población real $\\mathcal{P}$ en lugar de los datos.\n",
    "\n",
    "$$\n",
    "\\begin{eqnarray}\n",
    "E_{\\mathcal{P}}[Y-\\hat{f}^*(x)]^2&=&E_{\\mathcal{P}}[Y-f_{bag}(x)+f_{bag}(x)-\\hat{f}^*(x)]^2\\\\\n",
    "&=&E_{\\mathcal{P}}[Y-f_{bag}(x)]^2+E_{\\mathcal{P}}[\\hat{f}^*(x) - f_{bag}(x)]^2\\\\\n",
    "&\\geq&E_{\\mathcal{P}}[Y-f_{bag}(x)]^2\n",
    "\\end{eqnarray} \n",
    "$$\n",
    "\n",
    "El error adicional en el lado derecho proviene de la varianza de $\\hat{f}^∗(x)$ alrededor de su media  $f_{bag}(x)$. Por lo tanto, la verdadera población nunca aumenta el error cuadrático medio. Esto sugiere que bagging, extrayendo muestras a partir de los datos de entrenamiento, a menudo disminuirá el error cuadrático medio."
   ]
  },
  {
   "cell_type": "markdown",
   "metadata": {},
   "source": [
    "#### Algoritmo\n",
    "Agregación Boostrap (Bagging)\n",
    "Sea $M$ el número de predictores requeridos.\n",
    "1. X=$\\{(x_1,y_1),...(x_N,y_N)\\}$\n",
    "2. Para i=1 hasta M(número de predictores) hacer\n",
    " * Generar una nueva muestra boostrap $X_{bag}$ (muestras con reemplazo de tamaño N de X) \n",
    " * Entrenamos un estimador $f_i$ con la muestra $X_{bag}$ y lo agregamos al ensamble. \n",
    "3. Terminamos \n",
    "4.  Para cada observación de la muestra de prueba, el estimador Bagging estará dado por $f_{bag}=\\dfrac{1}{M}\\sum_i^Mf_i(x)$. En el caso de regresión el estimador Bagingg será la media de cada uno de ellos sin embargo en el caso de clasificación el valor de la clase estimada será el valor con mayor votos de los arboles."
   ]
  },
  {
   "cell_type": "markdown",
   "metadata": {},
   "source": [
    "<img src=\"trees.png\">"
   ]
  },
  {
   "cell_type": "code",
   "execution_count": 70,
   "metadata": {},
   "outputs": [],
   "source": [
    "from   sklearn.ensemble        import BaggingClassifier,RandomForestClassifier\n",
    "from   sklearn.model_selection import train_test_split\n",
    "from   sklearn                 import tree\n",
    "from   sklearn.metrics         import accuracy_score\n",
    "import pandas                  as     pd\n",
    "import matplotlib.pylab        as     plt\n",
    "from   sklearn.model_selection import GridSearchCV,RandomizedSearchCV"
   ]
  },
  {
   "cell_type": "code",
   "execution_count": 71,
   "metadata": {},
   "outputs": [
    {
     "data": {
      "text/html": [
       "<div>\n",
       "<style scoped>\n",
       "    .dataframe tbody tr th:only-of-type {\n",
       "        vertical-align: middle;\n",
       "    }\n",
       "\n",
       "    .dataframe tbody tr th {\n",
       "        vertical-align: top;\n",
       "    }\n",
       "\n",
       "    .dataframe thead th {\n",
       "        text-align: right;\n",
       "    }\n",
       "</style>\n",
       "<table border=\"1\" class=\"dataframe\">\n",
       "  <thead>\n",
       "    <tr style=\"text-align: right;\">\n",
       "      <th></th>\n",
       "      <th>row.names</th>\n",
       "      <th>sbp</th>\n",
       "      <th>tobacco</th>\n",
       "      <th>ldl</th>\n",
       "      <th>adiposity</th>\n",
       "      <th>famhist</th>\n",
       "      <th>typea</th>\n",
       "      <th>obesity</th>\n",
       "      <th>alcohol</th>\n",
       "      <th>age</th>\n",
       "      <th>chd</th>\n",
       "    </tr>\n",
       "  </thead>\n",
       "  <tbody>\n",
       "    <tr>\n",
       "      <th>0</th>\n",
       "      <td>1</td>\n",
       "      <td>160</td>\n",
       "      <td>12.00</td>\n",
       "      <td>5.73</td>\n",
       "      <td>23.11</td>\n",
       "      <td>1</td>\n",
       "      <td>49</td>\n",
       "      <td>25.30</td>\n",
       "      <td>97.20</td>\n",
       "      <td>52</td>\n",
       "      <td>1</td>\n",
       "    </tr>\n",
       "    <tr>\n",
       "      <th>1</th>\n",
       "      <td>2</td>\n",
       "      <td>144</td>\n",
       "      <td>0.01</td>\n",
       "      <td>4.41</td>\n",
       "      <td>28.61</td>\n",
       "      <td>0</td>\n",
       "      <td>55</td>\n",
       "      <td>28.87</td>\n",
       "      <td>2.06</td>\n",
       "      <td>63</td>\n",
       "      <td>1</td>\n",
       "    </tr>\n",
       "  </tbody>\n",
       "</table>\n",
       "</div>"
      ],
      "text/plain": [
       "   row.names  sbp  tobacco   ldl  adiposity  famhist  typea  obesity  alcohol  \\\n",
       "0          1  160    12.00  5.73      23.11        1     49    25.30    97.20   \n",
       "1          2  144     0.01  4.41      28.61        0     55    28.87     2.06   \n",
       "\n",
       "   age  chd  \n",
       "0   52    1  \n",
       "1   63    1  "
      ]
     },
     "execution_count": 71,
     "metadata": {},
     "output_type": "execute_result"
    }
   ],
   "source": [
    "data=pd.read_csv('coris.csv',sep=',',header=0)\n",
    "data.shape\n",
    "data.head(2)"
   ]
  },
  {
   "cell_type": "code",
   "execution_count": 72,
   "metadata": {},
   "outputs": [],
   "source": [
    "y=data.pop(\"chd\")\n",
    "X=data\n",
    "X_train, X_test, y_train, y_test = train_test_split(X, y, test_size=0.30, random_state=42)"
   ]
  },
  {
   "cell_type": "code",
   "execution_count": 74,
   "metadata": {},
   "outputs": [
    {
     "data": {
      "text/plain": [
       "BaggingClassifier(base_estimator=DecisionTreeClassifier(ccp_alpha=0.0,\n",
       "                                                        class_weight=None,\n",
       "                                                        criterion='gini',\n",
       "                                                        max_depth=7,\n",
       "                                                        max_features=None,\n",
       "                                                        max_leaf_nodes=None,\n",
       "                                                        min_impurity_decrease=0.0,\n",
       "                                                        min_impurity_split=None,\n",
       "                                                        min_samples_leaf=1,\n",
       "                                                        min_samples_split=2,\n",
       "                                                        min_weight_fraction_leaf=0.0,\n",
       "                                                        presort='deprecated',\n",
       "                                                        random_state=None,\n",
       "                                                        splitter='best'),\n",
       "                  bootstrap=True, bootstrap_features=False, max_features=1.0,\n",
       "                  max_samples=1.0, n_estimators=62, n_jobs=None,\n",
       "                  oob_score=False, random_state=7, verbose=0, warm_start=False)"
      ]
     },
     "execution_count": 74,
     "metadata": {},
     "output_type": "execute_result"
    }
   ],
   "source": [
    "seed=7\n",
    "cart=tree.DecisionTreeClassifier(max_depth=7)\n",
    "n_trees=62\n",
    "baggingModel=BaggingClassifier(base_estimator=cart,n_estimators=n_trees,random_state=seed)\n",
    "baggingModel.fit(X_train,y_train)"
   ]
  },
  {
   "cell_type": "code",
   "execution_count": 75,
   "metadata": {},
   "outputs": [
    {
     "name": "stdout",
     "output_type": "stream",
     "text": [
      "Porcentaje de datos bien clasificados\n",
      "0.6546762589928058\n",
      "número de datos bien clasificados\n"
     ]
    },
    {
     "data": {
      "text/plain": [
       "91"
      ]
     },
     "execution_count": 75,
     "metadata": {},
     "output_type": "execute_result"
    }
   ],
   "source": [
    "y_bag=baggingModel.predict(X_test)\n",
    "print('Porcentaje de datos bien clasificados')\n",
    "print(accuracy_score(y_test,y_bag))\n",
    "print('número de datos bien clasificados')\n",
    "accuracy_score(y_test,y_bag,normalize=False)"
   ]
  },
  {
   "cell_type": "code",
   "execution_count": 76,
   "metadata": {},
   "outputs": [
    {
     "data": {
      "text/plain": [
       "[<matplotlib.lines.Line2D at 0x7f072e3b95f8>]"
      ]
     },
     "execution_count": 76,
     "metadata": {},
     "output_type": "execute_result"
    },
    {
     "data": {
      "image/png": "[encoded data removed]",
      "text/plain": [
       "<Figure size 432x288 with 1 Axes>"
      ]
     },
     "metadata": {
      "needs_background": "light"
     },
     "output_type": "display_data"
    }
   ],
   "source": [
    "trees=[i for i in range(10,100,1)]\n",
    "max_dept=[4,5,7,9]\n",
    "ac=[]\n",
    "for i in trees:\n",
    "    cart=tree.DecisionTreeClassifier(max_depth=7)\n",
    "    baggingModel=BaggingClassifier(base_estimator=cart,n_estimators=i)\n",
    "    baggingModel.fit(X_train,y_train)\n",
    "    y_bag=baggingModel.predict(X_test)\n",
    "    ac.append(accuracy_score(y_test,y_bag))\n",
    "    \n",
    "plt.plot(trees,ac)    "
   ]
  },
  {
   "cell_type": "code",
   "execution_count": 98,
   "metadata": {},
   "outputs": [],
   "source": [
    "max_samp=np.arange(0.1, 1.1, 0.1)\n",
    "accuaracy=[]\n",
    "#boostrap vs accuracy  "
   ]
  },
  {
   "cell_type": "markdown",
   "metadata": {},
   "source": [
    "### Hiperparámetros\n",
    "1. $\\textit{max_features}$. El número de features a extraer de $X$ para entrenar cada estimador base (sin reemplazo por defecto).\n",
    "2. $\\textit{max_samples}$. El número de muestras a extraer de X para entrenar cada estimador base (con reemplazo por defecto)."
   ]
  },
  {
   "cell_type": "code",
   "execution_count": 77,
   "metadata": {},
   "outputs": [
    {
     "data": {
      "text/plain": [
       "{'base_estimator__criterion': 'entropy',\n",
       " 'base_estimator__max_depth': 5,\n",
       " 'n_estimators': 61}"
      ]
     },
     "execution_count": 77,
     "metadata": {},
     "output_type": "execute_result"
    }
   ],
   "source": [
    "param_grid = {\n",
    "    'base_estimator__max_depth' : [4,5,7,9,11],\n",
    "    #'max_samples' : [0.05, 0.1, 0.2, 0.5],\n",
    "    'n_estimators' :[i for i in range(10,100,1)],\n",
    "    'base_estimator__criterion':[\"gini\", \"entropy\"],\n",
    "    #'max_features':[0.5,1]\n",
    "}\n",
    "\n",
    "clf = GridSearchCV(BaggingClassifier(tree.DecisionTreeClassifier()),param_grid, scoring = 'accuracy')\n",
    "clf.fit(X_train, y_train)\n",
    "clf.best_params_"
   ]
  },
  {
   "cell_type": "code",
   "execution_count": 78,
   "metadata": {},
   "outputs": [
    {
     "name": "stdout",
     "output_type": "stream",
     "text": [
      "Porcentaje de datos bien clasificados\n",
      "0.7050359712230215\n",
      "número de datos bien clasificados\n"
     ]
    },
    {
     "data": {
      "text/plain": [
       "98"
      ]
     },
     "execution_count": 78,
     "metadata": {},
     "output_type": "execute_result"
    }
   ],
   "source": [
    "y_bag=clf.predict(X_test)\n",
    "print('Porcentaje de datos bien clasificados')\n",
    "print(accuracy_score(y_test,y_bag))\n",
    "print('número de datos bien clasificados')\n",
    "accuracy_score(y_test,y_bag,normalize=False)"
   ]
  },
  {
   "cell_type": "markdown",
   "metadata": {},
   "source": [
    "#### Random Forest\n",
    "* Util para regresión y clasificación.\n",
    "* Un grupo de modelos \"débiles\", se combinan en un modelo robusto.\n",
    "* Sirve como una técnica para reducción de la dimensionalidad.\n",
    "* Se generan múltiples árboles. Cada árbol da una classificación (vota por una clase). Y el resultado es la clase con mayor número de votos en todo el bosque (forest).\n",
    "* Para regresión, se toma el promedio de las salidas (predicciones) de todos los árboles.\n",
    "<img src=\"random.jpeg\" width=\"200px\">"
   ]
  },
  {
   "cell_type": "markdown",
   "metadata": {},
   "source": [
    "####  Ventajas y desventajas de Random Forest\n",
    "\n",
    "##### Ventajas\n",
    "* Existen muy pocas suposiciones sobre los datos\n",
    "* Puede manejar hasta miles de variables de entrada e identificar las más significativas. Método de reducción de dimensionalidad.\n",
    "* Una de las salidas del modelo es la importancia de variables.\n",
    "* Es posible usarlo como método no supervisado y detección de outliers.\n",
    "##### Desventajas\n",
    "* Pérdida de interpretación\n",
    "* Bueno para clasificación, no tanto para regresión. \n",
    "* Poco control en lo que hace el modelo "
   ]
  },
  {
   "cell_type": "code",
   "execution_count": 99,
   "metadata": {},
   "outputs": [
    {
     "data": {
      "text/plain": [
       "RandomForestClassifier(bootstrap=True, ccp_alpha=0.0, class_weight=None,\n",
       "                       criterion='gini', max_depth=7, max_features='auto',\n",
       "                       max_leaf_nodes=None, max_samples=None,\n",
       "                       min_impurity_decrease=0.0, min_impurity_split=None,\n",
       "                       min_samples_leaf=1, min_samples_split=2,\n",
       "                       min_weight_fraction_leaf=0.0, n_estimators=100,\n",
       "                       n_jobs=None, oob_score=False, random_state=0, verbose=0,\n",
       "                       warm_start=False)"
      ]
     },
     "execution_count": 99,
     "metadata": {},
     "output_type": "execute_result"
    }
   ],
   "source": [
    "randomForest = RandomForestClassifier(max_depth=7,n_estimators=100, random_state=0)\n",
    "randomForest.fit(X_train, y_train)"
   ]
  },
  {
   "cell_type": "code",
   "execution_count": 100,
   "metadata": {},
   "outputs": [
    {
     "name": "stdout",
     "output_type": "stream",
     "text": [
      "Porcentaje de datos bien clasificados\n",
      "0.6330935251798561\n",
      "número de datos bien clasificados\n"
     ]
    },
    {
     "data": {
      "text/plain": [
       "96"
      ]
     },
     "execution_count": 100,
     "metadata": {},
     "output_type": "execute_result"
    }
   ],
   "source": [
    "y_forest=randomForest.predict(X_test)\n",
    "print('Porcentaje de datos bien clasificados')\n",
    "print(accuracy_score(y_test,y_bag))\n",
    "print('número de datos bien clasificados')\n",
    "accuracy_score(y_test,y_forest,normalize=False)"
   ]
  },
  {
   "cell_type": "code",
   "execution_count": 65,
   "metadata": {},
   "outputs": [
    {
     "data": {
      "text/plain": [
       "{'n_estimators': 137,\n",
       " 'max_samples': 0.05,\n",
       " 'max_features': 'sqrt',\n",
       " 'max_depth': 4,\n",
       " 'criterion': 'entropy'}"
      ]
     },
     "execution_count": 65,
     "metadata": {},
     "output_type": "execute_result"
    }
   ],
   "source": [
    "param_grid = {\n",
    "    'max_depth' : [4,5,7,9,11],\n",
    "    'max_samples' : [0.05, 0.1, 0.2, 0.5],\n",
    "    'n_estimators' :[i for i in range(10,200,1)],\n",
    "    'criterion':[\"gini\", \"entropy\"],\n",
    "    'max_features':['auto', 'sqrt']\n",
    "}\n",
    "\n",
    "clf_rfhiper = RandomizedSearchCV(estimator=RandomForestClassifier(),param_distributions=param_grid, scoring = 'accuracy')\n",
    "clf_rfhiper.fit(X_train, y_train)\n",
    "clf_rfhiper.best_params_"
   ]
  },
  {
   "cell_type": "code",
   "execution_count": 66,
   "metadata": {},
   "outputs": [
    {
     "name": "stdout",
     "output_type": "stream",
     "text": [
      "Porcentaje de datos bien clasificados\n",
      "0.697841726618705\n",
      "número de datos bien clasificados\n"
     ]
    },
    {
     "data": {
      "text/plain": [
       "97"
      ]
     },
     "execution_count": 66,
     "metadata": {},
     "output_type": "execute_result"
    }
   ],
   "source": [
    "y_clf_rfhiper=clf_rfhiper.predict(X_test)\n",
    "print('Porcentaje de datos bien clasificados')\n",
    "print(accuracy_score(y_test,y_clf_rfhiper))\n",
    "print('número de datos bien clasificados')\n",
    "accuracy_score(y_test,y_clf_rfhiper,normalize=False)"
   ]
  }
 ],
 "metadata": {
  "kernelspec": {
   "display_name": "Python 3",
   "language": "python",
   "name": "python3"
  },
  "language_info": {
   "codemirror_mode": {
    "name": "ipython",
    "version": 3
   },
   "file_extension": ".py",
   "mimetype": "text/x-python",
   "name": "python",
   "nbconvert_exporter": "python",
   "pygments_lexer": "ipython3",
   "version": "3.7.3"
  }
 },
 "nbformat": 4,
 "nbformat_minor": 2
}
