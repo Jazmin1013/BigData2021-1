{
 "cells": [
  {
   "cell_type": "markdown",
   "metadata": {},
   "source": [
    "La validación cruzada es el método más simple y  utilizado para estimar el error de predicción. Este método estima directamente el error $Err = E [L (Y, \\hat{f}(X))]$, el error de prueba promedio cuando el método $\\hat{f}(X)$ se aplica a una muestra de prueba independiente de la distribución conjunta de $X,Y$. La validación cruzada normalmente estima bien unicamente el error de predicción esperado."
   ]
  },
  {
   "cell_type": "code",
   "execution_count": 202,
   "metadata": {},
   "outputs": [],
   "source": [
    "from   sklearn.model_selection import KFold\n",
    "import numpy                   as     np\n",
    "import pandas                  as     pd\n",
    "import matplotlib.pylab        as     plt"
   ]
  },
  {
   "cell_type": "code",
   "execution_count": 203,
   "metadata": {},
   "outputs": [],
   "source": [
    "sec=range(25,50,1) #crea una sucesion de numeros de 0 24"
   ]
  },
  {
   "cell_type": "code",
   "execution_count": 204,
   "metadata": {},
   "outputs": [
    {
     "data": {
      "text/plain": [
       "array([25, 26, 27, 28, 29, 30, 31, 32, 33, 34, 35, 36, 37, 38, 39, 40, 41,\n",
       "       42, 43, 44, 45, 46, 47, 48, 49])"
      ]
     },
     "execution_count": 204,
     "metadata": {},
     "output_type": "execute_result"
    }
   ],
   "source": [
    "np.take(sec,[i for i in range(len(sec))])  #toma elementos de un array a lo largo de eje"
   ]
  },
  {
   "cell_type": "code",
   "execution_count": 205,
   "metadata": {},
   "outputs": [],
   "source": [
    "kf5 = KFold(n_splits=5, shuffle=False)  #provee indices train/test para segmentar la muestra en train y test"
   ]
  },
  {
   "cell_type": "code",
   "execution_count": 206,
   "metadata": {},
   "outputs": [
    {
     "name": "stdout",
     "output_type": "stream",
     "text": [
      "[ 5  6  7  8  9 10 11 12 13 14 15 16 17 18 19 20 21 22 23 24] [0 1 2 3 4]\n",
      "[ 0  1  2  3  4 10 11 12 13 14 15 16 17 18 19 20 21 22 23 24] [5 6 7 8 9]\n",
      "[ 0  1  2  3  4  5  6  7  8  9 15 16 17 18 19 20 21 22 23 24] [10 11 12 13 14]\n",
      "[ 0  1  2  3  4  5  6  7  8  9 10 11 12 13 14 20 21 22 23 24] [15 16 17 18 19]\n",
      "[ 0  1  2  3  4  5  6  7  8  9 10 11 12 13 14 15 16 17 18 19] [20 21 22 23 24]\n"
     ]
    }
   ],
   "source": [
    "#verificamos los indices de los conjuntos de prueba y test\n",
    "for train_index, test_index in kf5.split(sec):\n",
    "    print(train_index, test_index)"
   ]
  },
  {
   "cell_type": "code",
   "execution_count": 207,
   "metadata": {},
   "outputs": [
    {
     "name": "stdout",
     "output_type": "stream",
     "text": [
      "[30 31 32 33 34 35 36 37 38 39 40 41 42 43 44 45 46 47 48 49] [25 26 27 28 29]\n",
      "[25 26 27 28 29 35 36 37 38 39 40 41 42 43 44 45 46 47 48 49] [30 31 32 33 34]\n",
      "[25 26 27 28 29 30 31 32 33 34 40 41 42 43 44 45 46 47 48 49] [35 36 37 38 39]\n",
      "[25 26 27 28 29 30 31 32 33 34 35 36 37 38 39 45 46 47 48 49] [40 41 42 43 44]\n",
      "[25 26 27 28 29 30 31 32 33 34 35 36 37 38 39 40 41 42 43 44] [45 46 47 48 49]\n"
     ]
    }
   ],
   "source": [
    "#verificamos el contenido de las muestra de entrenamiento y validación\n",
    "for train_index, test_index in kf5.split(sec):\n",
    "    print(np.take(sec,train_index), np.take(sec,test_index))"
   ]
  },
  {
   "cell_type": "code",
   "execution_count": 219,
   "metadata": {},
   "outputs": [],
   "source": [
    "def kfold(kfd, ar, paso=1):\n",
    "    \"\"\"\n",
    "    funccion que regresa dos dataframe uno de test y otro de training con los indices,\n",
    "    muestras y un parametro val para ir aumentando el k fold \n",
    "    :param kfd: obejeto kfold\n",
    "    :param ar: el range \n",
    "    :param paso: paso default 1\n",
    "    :return: una tupla train,test\n",
    "    \"\"\"\n",
    "    \n",
    "    train = pd.DataFrame()\n",
    "    test = pd.DataFrame()\n",
    "    i = 1\n",
    "    for train_index, test_index in kfd.split(ar):\n",
    "        train_df = pd.DataFrame(np.take(ar, train_index), columns=[\"x\"])\n",
    "        train_df[\"val\"] = i + paso  \n",
    "        train = train.append(train_df)\n",
    "        test_df = pd.DataFrame(np.take(ar, test_index), columns=[\"x\"])\n",
    "        test_df[\"val\"] = i + paso\n",
    "        test = test.append(test_df)\n",
    "        i += 1\n",
    "    return train, test"
   ]
  },
  {
   "cell_type": "code",
   "execution_count": 215,
   "metadata": {},
   "outputs": [],
   "source": [
    "kf5 = KFold(n_splits=5, shuffle=False)\n",
    "train5, test5 = kfold(kf5,sec)"
   ]
  },
  {
   "cell_type": "markdown",
   "metadata": {},
   "source": [
    "Para obtener el error de predicción se calcula el error en cada uno de los conjuntos de prueba, y despues se promedia sobre cada uno de ellos, teniendo así el error de predicción de la siguiente manera.\n",
    "\n",
    "$$\n",
    "CV(\\hat{f})=\\dfrac{1}{N}\\sum_{i=1}^NL(y_i,\\hat{f}^{k(i)}(x_i))\n",
    "$$\n",
    "donde $\\hat{f}^{k(i)}$ denota la función ajustada, calculada con la k-ésima parte de los datos de prueba"
   ]
  },
  {
   "cell_type": "code",
   "execution_count": 221,
   "metadata": {},
   "outputs": [
    {
     "data": {
      "image/png": "[encoded data removed]",
      "text/plain": [
       "<Figure size 432x288 with 1 Axes>"
      ]
     },
     "metadata": {
      "needs_background": "light"
     },
     "output_type": "display_data"
    }
   ],
   "source": [
    "fig=plt.figure()\n",
    "ax=fig.add_axes([1,1,1,1])\n",
    "ax.scatter(x=\"x\",y=\"val\",c=\"b\",label=\"train\",s=15,data=train5)\n",
    "ax.scatter(x=\"x\",y=\"val\",c=\"r\",label=\"test\",s=15,data=test5)\n",
    "ax.set_ylabel(\"Kfold\")\n",
    "ax.set_xlabel(\"feature\")\n",
    "ax.set_title(\"K Fold-Cross Validation K=5\")\n",
    "plt.legend()\n",
    "plt.show()"
   ]
  },
  {
   "cell_type": "markdown",
   "metadata": {},
   "source": [
    "Por lo general se suele tomar $k=5$ o $k=10$. El caso $K = N$ se conoce como $\\textbf{leave-one-out}$. En este caso, $κ(i)= i$, y para la $i-esima$ observación, el ajuste se calcula utilizando todos los datos excepto el."
   ]
  }
 ],
 "metadata": {
  "kernelspec": {
   "display_name": "Python 3",
   "language": "python",
   "name": "python3"
  },
  "language_info": {
   "codemirror_mode": {
    "name": "ipython",
    "version": 3
   },
   "file_extension": ".py",
   "mimetype": "text/x-python",
   "name": "python",
   "nbconvert_exporter": "python",
   "pygments_lexer": "ipython3",
   "version": "3.7.3"
  }
 },
 "nbformat": 4,
 "nbformat_minor": 2
}
