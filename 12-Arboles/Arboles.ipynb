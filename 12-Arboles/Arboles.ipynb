{
 "cells": [
  {
   "cell_type": "markdown",
   "metadata": {},
   "source": [
    "### Arboles \n",
    "A grandes rasgos los árboles de clasificación son métodos que particionan el espacio de covariables $\\mathcal{X}$ en piezas disjuntas y entonces clasificamos las observaciones de acuerdo a la partición a la que pertencen.\n",
    "\n",
    "Supongamos que se tinen dos categorias  $y\\in \\mathcal{Y}=\\{0,1\\}$. Y tenemos solamente una covariable $X$. Escogemos un punto t que divide a la recta real en dos conjunto $A_1=(-\\infty,t]$, $A_2=(t,\\infty)$. Sea $\\hat{p}_s(j)$ la proporción de observaciones en $A_s$, tal que $Y_i=j$. \n",
    "$$\n",
    "\\hat{p}_s(j)=\\dfrac{\\sum_{i=1}^n I(Y_i=j,X_i\\in A_s)}{\\sum_{i=1}^n I(X_i\\in A_s)}\n",
    "$$\n",
    "para $s=1,2$ y $j=0,1$.\n",
    "\n",
    "Ejemplo: Proporción de observaciones en $A_1$ tal que Y=0.\n",
    "$$\n",
    "\\hat{p}_1(j=0)=\\dfrac{\\sum_{i=1}^n I(Y_i=0,X_i\\in A_1)}{\\sum_{i=1}^n I(X_i\\in A_1)}\n",
    "$$\n",
    "\n",
    "La impureza del split se define como, \n",
    "$$\n",
    "I(t)=\\sum_{s=1}^2\\gamma_s\n",
    "$$\n",
    "donde $\\gamma_s=1-\\sum_{j=0}^1 \\hat{p}_s(j)^2$.\n",
    "Esta es una medida de la impureza y se le conoce como indice de $\\textbf{Gini}$. Si una partición $A_s$ contiene todos los 0's o 1's entonces $\\gamma_s=0$. De otra manera $\\gamma_s>0$ Entonces nosotros tratamos de escoger un punto $t$ tal que minimize la impureza.\n",
    "\n",
    "\n",
    "\n",
    "Ventajas\n",
    "\n",
    "* Fácil de interpretar.\n",
    "* No paramétrico\n",
    "\n",
    "Deventajas \n",
    "\n",
    "* Sobreajuste\n",
    "* Pérdida de información al categorizar variables continuas\n",
    "* Precisión: si pueden usar mejor SVM, usenlos! en ocaciones tienen tasas de error más bajas hasta 30 %  \n",
    "* Inestabilidad: un pequeño cambio en los datos puede modificar ampliamente la estructura del árbol\n",
    "* hay que tener cuidado con la heurística "
   ]
  },
  {
   "cell_type": "code",
   "execution_count": 2,
   "metadata": {},
   "outputs": [],
   "source": [
    "import os \n",
    "#agregar al path el lugar de la instalacion de graphviz (dot.exe)\n",
    "#os.environ[\"PATH\"] += os.pathsep + r'C:\\Users\\jimmy\\Anaconda3\\Library\\bin\\graphviz'"
   ]
  },
  {
   "cell_type": "code",
   "execution_count": 4,
   "metadata": {},
   "outputs": [],
   "source": [
    "import urllib.request          as     url\n",
    "import pandas                  as     pd\n",
    "from   sklearn                 import tree\n",
    "import graphviz                as     gv\n",
    "import numpy                   as     np\n",
    "from   sklearn.metrics         import accuracy_score\n",
    "from   sklearn.model_selection import train_test_split\n",
    "from   sklearn.ensemble        import BaggingClassifier,RandomForestClassifier\n",
    "import matplotlib.pylab        as     plt \n",
    "from   sklearn.model_selection import GridSearchCV\n",
    "import sklearn"
   ]
  },
  {
   "cell_type": "markdown",
   "metadata": {},
   "source": [
    "#### Descripción de los datos\n",
    "Los datos del Estudio de factores de riesgo coronario (CORIS) incluyen a 462 hombres de entre 15 y 64 años de tres zonas rurales de Sudáfrica (Rousseauw et al. (1983)). La variable de respuesta Y es la presencia (Y = 1) o ausencia (Y = 0) de enfermedad coronaria. Hay 9 covariables:\n",
    "\n",
    "* sbp- presión arterial sistólica\n",
    "* tobacco tabaquismo acumulado (kg)\n",
    "* ldl (colesterol unido a lipoproteínas de baja densidad)\n",
    "* adiposity, adiposidad\n",
    "* famhist (antecedentes familiares de enfermedad cardíaca)\n",
    "* tipoa (comportamiento tipo A), \n",
    "* obesity, obesidad \n",
    "* alcohol (consumo actual de alcohol) \n",
    "* age"
   ]
  },
  {
   "cell_type": "code",
   "execution_count": 5,
   "metadata": {},
   "outputs": [
    {
     "data": {
      "text/html": [
       "<div>\n",
       "<style scoped>\n",
       "    .dataframe tbody tr th:only-of-type {\n",
       "        vertical-align: middle;\n",
       "    }\n",
       "\n",
       "    .dataframe tbody tr th {\n",
       "        vertical-align: top;\n",
       "    }\n",
       "\n",
       "    .dataframe thead th {\n",
       "        text-align: right;\n",
       "    }\n",
       "</style>\n",
       "<table border=\"1\" class=\"dataframe\">\n",
       "  <thead>\n",
       "    <tr style=\"text-align: right;\">\n",
       "      <th></th>\n",
       "      <th>row.names</th>\n",
       "      <th>sbp</th>\n",
       "      <th>tobacco</th>\n",
       "      <th>ldl</th>\n",
       "      <th>adiposity</th>\n",
       "      <th>famhist</th>\n",
       "      <th>typea</th>\n",
       "      <th>obesity</th>\n",
       "      <th>alcohol</th>\n",
       "      <th>age</th>\n",
       "      <th>chd</th>\n",
       "    </tr>\n",
       "  </thead>\n",
       "  <tbody>\n",
       "    <tr>\n",
       "      <th>0</th>\n",
       "      <td>1</td>\n",
       "      <td>160</td>\n",
       "      <td>12.00</td>\n",
       "      <td>5.73</td>\n",
       "      <td>23.11</td>\n",
       "      <td>1</td>\n",
       "      <td>49</td>\n",
       "      <td>25.30</td>\n",
       "      <td>97.20</td>\n",
       "      <td>52</td>\n",
       "      <td>1</td>\n",
       "    </tr>\n",
       "    <tr>\n",
       "      <th>1</th>\n",
       "      <td>2</td>\n",
       "      <td>144</td>\n",
       "      <td>0.01</td>\n",
       "      <td>4.41</td>\n",
       "      <td>28.61</td>\n",
       "      <td>0</td>\n",
       "      <td>55</td>\n",
       "      <td>28.87</td>\n",
       "      <td>2.06</td>\n",
       "      <td>63</td>\n",
       "      <td>1</td>\n",
       "    </tr>\n",
       "  </tbody>\n",
       "</table>\n",
       "</div>"
      ],
      "text/plain": [
       "   row.names  sbp  tobacco   ldl  adiposity  famhist  typea  obesity  alcohol  \\\n",
       "0          1  160    12.00  5.73      23.11        1     49    25.30    97.20   \n",
       "1          2  144     0.01  4.41      28.61        0     55    28.87     2.06   \n",
       "\n",
       "   age  chd  \n",
       "0   52    1  \n",
       "1   63    1  "
      ]
     },
     "execution_count": 5,
     "metadata": {},
     "output_type": "execute_result"
    }
   ],
   "source": [
    "data=pd.read_csv('coris.csv',sep=',',header=0)\n",
    "data.shape\n",
    "data.head(2)"
   ]
  },
  {
   "cell_type": "code",
   "execution_count": 6,
   "metadata": {},
   "outputs": [
    {
     "name": "stdout",
     "output_type": "stream",
     "text": [
      "Personas con enferdad de las coronarias\n",
      "0    302\n",
      "1    160\n",
      "Name: chd, dtype: int64\n",
      "Personas con edad menor de 50 años\n",
      "290\n"
     ]
    }
   ],
   "source": [
    "print('Personas con enferdad de las coronarias')\n",
    "print(pd.value_counts(data['chd']))\n",
    "print('Personas con edad menor de 50 años')\n",
    "print(sum([1 for i in data['age'] if i<=50]))"
   ]
  },
  {
   "cell_type": "markdown",
   "metadata": {},
   "source": [
    "Parametros\n",
    "1. $\\textit{max_leaf_nodes}$ es el maximo número de nodos hojas (nodos sin hijos) para reducción relativa de la impureza\n",
    "2. $\\textit{max_depth}$ profundidad maxima.\n",
    "3. $\\textit{criterion}$ criterio para la división de los datos, Gini (impureza)\n",
    "El indice de Gini es un valor entre 0 y 1"
   ]
  },
  {
   "cell_type": "code",
   "execution_count": 7,
   "metadata": {},
   "outputs": [],
   "source": [
    "y=data.pop(\"chd\")\n",
    "X=data\n",
    "X_train, X_test, y_train, y_test = train_test_split(X, y, test_size=0.30, random_state=42)"
   ]
  },
  {
   "cell_type": "code",
   "execution_count": 8,
   "metadata": {},
   "outputs": [
    {
     "name": "stdout",
     "output_type": "stream",
     "text": [
      "Personas con enferdad de las coronarias\n",
      "0    212\n",
      "1    111\n",
      "Name: chd, dtype: int64\n",
      "Personas con edad menor de 50 años\n",
      "194\n"
     ]
    }
   ],
   "source": [
    "print('Personas con enferdad de las coronarias')\n",
    "print(pd.value_counts(y_train))\n",
    "print('Personas con edad menor de 50 años')\n",
    "print(sum([1 for i in X_train['age'] if i<50]))"
   ]
  },
  {
   "cell_type": "code",
   "execution_count": 9,
   "metadata": {},
   "outputs": [],
   "source": [
    "#ccp_alpha= 0.015 agregar para mejorar la clasificacion\n",
    "tr=tree.DecisionTreeClassifier(criterion=\"gini\",max_depth=7,max_leaf_nodes=7)\n",
    "trf=tr.fit(X_train,y_train)"
   ]
  },
  {
   "cell_type": "code",
   "execution_count": 10,
   "metadata": {},
   "outputs": [
    {
     "data": {
      "image/svg+xml": [
       "<?xml version=\"1.0\" encoding=\"UTF-8\" standalone=\"no\"?>\n",
       "<!DOCTYPE svg PUBLIC \"-//W3C//DTD SVG 1.1//EN\"\n",
       " \"http://www.w3.org/Graphics/SVG/1.1/DTD/svg11.dtd\">\n",
       "<!-- Generated by graphviz version 2.30.1 (20180420.1509)\n",
       " -->\n",
       "<!-- Title: Tree Pages: 1 -->\n",
       "<svg width=\"669pt\" height=\"468pt\"\n",
       " viewBox=\"0.00 0.00 669.00 468.00\" xmlns=\"http://www.w3.org/2000/svg\" xmlns:xlink=\"http://www.w3.org/1999/xlink\">\n",
       "<g id=\"graph0\" class=\"graph\" transform=\"scale(1 1) rotate(0) translate(4 464)\">\n",
       "<title>Tree</title>\n",
       "<polygon fill=\"white\" stroke=\"white\" points=\"-4,5 -4,-464 666,-464 666,5 -4,5\"/>\n",
       "<!-- 0 -->\n",
       "<g id=\"node1\" class=\"node\"><title>0</title>\n",
       "<path fill=\"#f3c3a1\" stroke=\"black\" d=\"M438.25,-459.5C438.25,-459.5 311.75,-459.5 311.75,-459.5 305.75,-459.5 299.75,-453.5 299.75,-447.5 299.75,-447.5 299.75,-406.5 299.75,-406.5 299.75,-400.5 305.75,-394.5 311.75,-394.5 311.75,-394.5 438.25,-394.5 438.25,-394.5 444.25,-394.5 450.25,-400.5 450.25,-406.5 450.25,-406.5 450.25,-447.5 450.25,-447.5 450.25,-453.5 444.25,-459.5 438.25,-459.5\"/>\n",
       "<text text-anchor=\"start\" x=\"335\" y=\"-445.3\" font-family=\"Helvetica,sans-Serif\" font-size=\"14.00\">age ≤ 49.5</text>\n",
       "<text text-anchor=\"start\" x=\"331\" y=\"-431.3\" font-family=\"Helvetica,sans-Serif\" font-size=\"14.00\">gini = 0.451</text>\n",
       "<text text-anchor=\"start\" x=\"320.5\" y=\"-417.3\" font-family=\"Helvetica,sans-Serif\" font-size=\"14.00\">samples = 323</text>\n",
       "<text text-anchor=\"start\" x=\"308\" y=\"-403.3\" font-family=\"Helvetica,sans-Serif\" font-size=\"14.00\">value = [212, 111]</text>\n",
       "</g>\n",
       "<!-- 1 -->\n",
       "<g id=\"node2\" class=\"node\"><title>1</title>\n",
       "<path fill=\"#eca36e\" stroke=\"black\" d=\"M356,-357.5C356,-357.5 238,-357.5 238,-357.5 232,-357.5 226,-351.5 226,-345.5 226,-345.5 226,-304.5 226,-304.5 226,-298.5 232,-292.5 238,-292.5 238,-292.5 356,-292.5 356,-292.5 362,-292.5 368,-298.5 368,-304.5 368,-304.5 368,-345.5 368,-345.5 368,-351.5 362,-357.5 356,-357.5\"/>\n",
       "<text text-anchor=\"start\" x=\"262\" y=\"-343.3\" font-family=\"Helvetica,sans-Serif\" font-size=\"14.00\">ldl ≤ 6.36</text>\n",
       "<text text-anchor=\"start\" x=\"253\" y=\"-329.3\" font-family=\"Helvetica,sans-Serif\" font-size=\"14.00\">gini = 0.333</text>\n",
       "<text text-anchor=\"start\" x=\"242.5\" y=\"-315.3\" font-family=\"Helvetica,sans-Serif\" font-size=\"14.00\">samples = 194</text>\n",
       "<text text-anchor=\"start\" x=\"234.5\" y=\"-301.3\" font-family=\"Helvetica,sans-Serif\" font-size=\"14.00\">value = [153, 41]</text>\n",
       "</g>\n",
       "<!-- 0&#45;&gt;1 -->\n",
       "<g id=\"edge1\" class=\"edge\"><title>0&#45;&gt;1</title>\n",
       "<path fill=\"none\" stroke=\"black\" d=\"M350.32,-394.359C343.278,-385.331 335.513,-375.375 328.139,-365.921\"/>\n",
       "<polygon fill=\"black\" stroke=\"black\" points=\"330.697,-363.51 321.787,-357.778 325.177,-367.816 330.697,-363.51\"/>\n",
       "<text text-anchor=\"middle\" x=\"318.72\" y=\"-378.889\" font-family=\"Helvetica,sans-Serif\" font-size=\"14.00\">True</text>\n",
       "</g>\n",
       "<!-- 2 -->\n",
       "<g id=\"node7\" class=\"node\"><title>2</title>\n",
       "<path fill=\"#e0f0fb\" stroke=\"black\" d=\"M507.25,-357.5C507.25,-357.5 398.75,-357.5 398.75,-357.5 392.75,-357.5 386.75,-351.5 386.75,-345.5 386.75,-345.5 386.75,-304.5 386.75,-304.5 386.75,-298.5 392.75,-292.5 398.75,-292.5 398.75,-292.5 507.25,-292.5 507.25,-292.5 513.25,-292.5 519.25,-298.5 519.25,-304.5 519.25,-304.5 519.25,-345.5 519.25,-345.5 519.25,-351.5 513.25,-357.5 507.25,-357.5\"/>\n",
       "<text text-anchor=\"start\" x=\"418\" y=\"-343.3\" font-family=\"Helvetica,sans-Serif\" font-size=\"14.00\">ldl ≤ 8.05</text>\n",
       "<text text-anchor=\"start\" x=\"409\" y=\"-329.3\" font-family=\"Helvetica,sans-Serif\" font-size=\"14.00\">gini = 0.496</text>\n",
       "<text text-anchor=\"start\" x=\"398.5\" y=\"-315.3\" font-family=\"Helvetica,sans-Serif\" font-size=\"14.00\">samples = 129</text>\n",
       "<text text-anchor=\"start\" x=\"395\" y=\"-301.3\" font-family=\"Helvetica,sans-Serif\" font-size=\"14.00\">value = [59, 70]</text>\n",
       "</g>\n",
       "<!-- 0&#45;&gt;2 -->\n",
       "<g id=\"edge6\" class=\"edge\"><title>0&#45;&gt;2</title>\n",
       "<path fill=\"none\" stroke=\"black\" d=\"M399.68,-394.359C406.722,-385.331 414.487,-375.375 421.861,-365.921\"/>\n",
       "<polygon fill=\"black\" stroke=\"black\" points=\"424.823,-367.816 428.213,-357.778 419.303,-363.51 424.823,-367.816\"/>\n",
       "<text text-anchor=\"middle\" x=\"431.28\" y=\"-378.889\" font-family=\"Helvetica,sans-Serif\" font-size=\"14.00\">False</text>\n",
       "</g>\n",
       "<!-- 3 -->\n",
       "<g id=\"node3\" class=\"node\"><title>3</title>\n",
       "<path fill=\"#ea9a61\" stroke=\"black\" d=\"M202.25,-255.5C202.25,-255.5 73.75,-255.5 73.75,-255.5 67.75,-255.5 61.75,-249.5 61.75,-243.5 61.75,-243.5 61.75,-202.5 61.75,-202.5 61.75,-196.5 67.75,-190.5 73.75,-190.5 73.75,-190.5 202.25,-190.5 202.25,-190.5 208.25,-190.5 214.25,-196.5 214.25,-202.5 214.25,-202.5 214.25,-243.5 214.25,-243.5 214.25,-249.5 208.25,-255.5 202.25,-255.5\"/>\n",
       "<text text-anchor=\"start\" x=\"70\" y=\"-241.3\" font-family=\"Helvetica,sans-Serif\" font-size=\"14.00\">adiposity ≤ 33.385</text>\n",
       "<text text-anchor=\"start\" x=\"94\" y=\"-227.3\" font-family=\"Helvetica,sans-Serif\" font-size=\"14.00\">gini = 0.278</text>\n",
       "<text text-anchor=\"start\" x=\"83.5\" y=\"-213.3\" font-family=\"Helvetica,sans-Serif\" font-size=\"14.00\">samples = 168</text>\n",
       "<text text-anchor=\"start\" x=\"75.5\" y=\"-199.3\" font-family=\"Helvetica,sans-Serif\" font-size=\"14.00\">value = [140, 28]</text>\n",
       "</g>\n",
       "<!-- 1&#45;&gt;3 -->\n",
       "<g id=\"edge2\" class=\"edge\"><title>1&#45;&gt;3</title>\n",
       "<path fill=\"none\" stroke=\"black\" d=\"M246.691,-292.359C230.955,-282.462 213.446,-271.45 197.158,-261.206\"/>\n",
       "<polygon fill=\"black\" stroke=\"black\" points=\"198.582,-257.967 188.254,-255.606 194.856,-263.893 198.582,-257.967\"/>\n",
       "</g>\n",
       "<!-- 4 -->\n",
       "<g id=\"node6\" class=\"node\"><title>4</title>\n",
       "<path fill=\"#ffffff\" stroke=\"black\" d=\"M353.25,-248.5C353.25,-248.5 244.75,-248.5 244.75,-248.5 238.75,-248.5 232.75,-242.5 232.75,-236.5 232.75,-236.5 232.75,-209.5 232.75,-209.5 232.75,-203.5 238.75,-197.5 244.75,-197.5 244.75,-197.5 353.25,-197.5 353.25,-197.5 359.25,-197.5 365.25,-203.5 365.25,-209.5 365.25,-209.5 365.25,-236.5 365.25,-236.5 365.25,-242.5 359.25,-248.5 353.25,-248.5\"/>\n",
       "<text text-anchor=\"start\" x=\"264\" y=\"-234.3\" font-family=\"Helvetica,sans-Serif\" font-size=\"14.00\">gini = 0.5</text>\n",
       "<text text-anchor=\"start\" x=\"249\" y=\"-220.3\" font-family=\"Helvetica,sans-Serif\" font-size=\"14.00\">samples = 26</text>\n",
       "<text text-anchor=\"start\" x=\"241\" y=\"-206.3\" font-family=\"Helvetica,sans-Serif\" font-size=\"14.00\">value = [13, 13]</text>\n",
       "</g>\n",
       "<!-- 1&#45;&gt;4 -->\n",
       "<g id=\"edge5\" class=\"edge\"><title>1&#45;&gt;4</title>\n",
       "<path fill=\"none\" stroke=\"black\" d=\"M297.633,-292.359C297.846,-281.692 298.085,-269.73 298.303,-258.831\"/>\n",
       "<polygon fill=\"black\" stroke=\"black\" points=\"301.804,-258.851 298.504,-248.783 294.805,-258.711 301.804,-258.851\"/>\n",
       "</g>\n",
       "<!-- 7 -->\n",
       "<g id=\"node4\" class=\"node\"><title>7</title>\n",
       "<path fill=\"#e9965a\" stroke=\"black\" d=\"M130,-146.5C130,-146.5 12,-146.5 12,-146.5 6,-146.5 0,-140.5 0,-134.5 0,-134.5 0,-107.5 0,-107.5 0,-101.5 6,-95.5 12,-95.5 12,-95.5 130,-95.5 130,-95.5 136,-95.5 142,-101.5 142,-107.5 142,-107.5 142,-134.5 142,-134.5 142,-140.5 136,-146.5 130,-146.5\"/>\n",
       "<text text-anchor=\"start\" x=\"27\" y=\"-132.3\" font-family=\"Helvetica,sans-Serif\" font-size=\"14.00\">gini = 0.245</text>\n",
       "<text text-anchor=\"start\" x=\"16.5\" y=\"-118.3\" font-family=\"Helvetica,sans-Serif\" font-size=\"14.00\">samples = 161</text>\n",
       "<text text-anchor=\"start\" x=\"8.5\" y=\"-104.3\" font-family=\"Helvetica,sans-Serif\" font-size=\"14.00\">value = [138, 23]</text>\n",
       "</g>\n",
       "<!-- 3&#45;&gt;7 -->\n",
       "<g id=\"edge3\" class=\"edge\"><title>3&#45;&gt;7</title>\n",
       "<path fill=\"none\" stroke=\"black\" d=\"M116.801,-190.359C109.285,-179.142 100.811,-166.494 93.2133,-155.154\"/>\n",
       "<polygon fill=\"black\" stroke=\"black\" points=\"96.0787,-153.143 87.6048,-146.783 90.2633,-157.039 96.0787,-153.143\"/>\n",
       "</g>\n",
       "<!-- 8 -->\n",
       "<g id=\"node5\" class=\"node\"><title>8</title>\n",
       "<path fill=\"#88c4ef\" stroke=\"black\" d=\"M263.25,-146.5C263.25,-146.5 172.75,-146.5 172.75,-146.5 166.75,-146.5 160.75,-140.5 160.75,-134.5 160.75,-134.5 160.75,-107.5 160.75,-107.5 160.75,-101.5 166.75,-95.5 172.75,-95.5 172.75,-95.5 263.25,-95.5 263.25,-95.5 269.25,-95.5 275.25,-101.5 275.25,-107.5 275.25,-107.5 275.25,-134.5 275.25,-134.5 275.25,-140.5 269.25,-146.5 263.25,-146.5\"/>\n",
       "<text text-anchor=\"start\" x=\"174\" y=\"-132.3\" font-family=\"Helvetica,sans-Serif\" font-size=\"14.00\">gini = 0.408</text>\n",
       "<text text-anchor=\"start\" x=\"172.5\" y=\"-118.3\" font-family=\"Helvetica,sans-Serif\" font-size=\"14.00\">samples = 7</text>\n",
       "<text text-anchor=\"start\" x=\"169\" y=\"-104.3\" font-family=\"Helvetica,sans-Serif\" font-size=\"14.00\">value = [2, 5]</text>\n",
       "</g>\n",
       "<!-- 3&#45;&gt;8 -->\n",
       "<g id=\"edge4\" class=\"edge\"><title>3&#45;&gt;8</title>\n",
       "<path fill=\"none\" stroke=\"black\" d=\"M163.312,-190.359C172.374,-179.032 182.603,-166.246 191.743,-154.821\"/>\n",
       "<polygon fill=\"black\" stroke=\"black\" points=\"194.659,-156.778 198.173,-146.783 189.193,-152.406 194.659,-156.778\"/>\n",
       "</g>\n",
       "<!-- 5 -->\n",
       "<g id=\"node8\" class=\"node\"><title>5</title>\n",
       "<path fill=\"#fffdfc\" stroke=\"black\" d=\"M506.25,-255.5C506.25,-255.5 397.75,-255.5 397.75,-255.5 391.75,-255.5 385.75,-249.5 385.75,-243.5 385.75,-243.5 385.75,-202.5 385.75,-202.5 385.75,-196.5 391.75,-190.5 397.75,-190.5 397.75,-190.5 506.25,-190.5 506.25,-190.5 512.25,-190.5 518.25,-196.5 518.25,-202.5 518.25,-202.5 518.25,-243.5 518.25,-243.5 518.25,-249.5 512.25,-255.5 506.25,-255.5\"/>\n",
       "<text text-anchor=\"start\" x=\"408\" y=\"-241.3\" font-family=\"Helvetica,sans-Serif\" font-size=\"14.00\">sbp ≤ 167.0</text>\n",
       "<text text-anchor=\"start\" x=\"417\" y=\"-227.3\" font-family=\"Helvetica,sans-Serif\" font-size=\"14.00\">gini = 0.5</text>\n",
       "<text text-anchor=\"start\" x=\"397.5\" y=\"-213.3\" font-family=\"Helvetica,sans-Serif\" font-size=\"14.00\">samples = 115</text>\n",
       "<text text-anchor=\"start\" x=\"394\" y=\"-199.3\" font-family=\"Helvetica,sans-Serif\" font-size=\"14.00\">value = [58, 57]</text>\n",
       "</g>\n",
       "<!-- 2&#45;&gt;5 -->\n",
       "<g id=\"edge7\" class=\"edge\"><title>2&#45;&gt;5</title>\n",
       "<path fill=\"none\" stroke=\"black\" d=\"M452.684,-292.359C452.6,-283.969 452.508,-274.779 452.419,-265.934\"/>\n",
       "<polygon fill=\"black\" stroke=\"black\" points=\"455.918,-265.742 452.318,-255.778 448.918,-265.813 455.918,-265.742\"/>\n",
       "</g>\n",
       "<!-- 6 -->\n",
       "<g id=\"node13\" class=\"node\"><title>6</title>\n",
       "<path fill=\"#48a5e7\" stroke=\"black\" d=\"M649,-248.5C649,-248.5 549,-248.5 549,-248.5 543,-248.5 537,-242.5 537,-236.5 537,-236.5 537,-209.5 537,-209.5 537,-203.5 543,-197.5 549,-197.5 549,-197.5 649,-197.5 649,-197.5 655,-197.5 661,-203.5 661,-209.5 661,-209.5 661,-236.5 661,-236.5 661,-242.5 655,-248.5 649,-248.5\"/>\n",
       "<text text-anchor=\"start\" x=\"555\" y=\"-234.3\" font-family=\"Helvetica,sans-Serif\" font-size=\"14.00\">gini = 0.133</text>\n",
       "<text text-anchor=\"start\" x=\"549\" y=\"-220.3\" font-family=\"Helvetica,sans-Serif\" font-size=\"14.00\">samples = 14</text>\n",
       "<text text-anchor=\"start\" x=\"545.5\" y=\"-206.3\" font-family=\"Helvetica,sans-Serif\" font-size=\"14.00\">value = [1, 13]</text>\n",
       "</g>\n",
       "<!-- 2&#45;&gt;6 -->\n",
       "<g id=\"edge12\" class=\"edge\"><title>2&#45;&gt;6</title>\n",
       "<path fill=\"none\" stroke=\"black\" d=\"M499.195,-292.359C516.857,-280.263 536.949,-266.501 554.453,-254.512\"/>\n",
       "<polygon fill=\"black\" stroke=\"black\" points=\"556.544,-257.322 562.816,-248.783 552.588,-251.547 556.544,-257.322\"/>\n",
       "</g>\n",
       "<!-- 9 -->\n",
       "<g id=\"node9\" class=\"node\"><title>9</title>\n",
       "<path fill=\"#f9e3d3\" stroke=\"black\" d=\"M425.25,-153.5C425.25,-153.5 316.75,-153.5 316.75,-153.5 310.75,-153.5 304.75,-147.5 304.75,-141.5 304.75,-141.5 304.75,-100.5 304.75,-100.5 304.75,-94.5 310.75,-88.5 316.75,-88.5 316.75,-88.5 425.25,-88.5 425.25,-88.5 431.25,-88.5 437.25,-94.5 437.25,-100.5 437.25,-100.5 437.25,-141.5 437.25,-141.5 437.25,-147.5 431.25,-153.5 425.25,-153.5\"/>\n",
       "<text text-anchor=\"start\" x=\"316.5\" y=\"-139.3\" font-family=\"Helvetica,sans-Serif\" font-size=\"14.00\">tobacco ≤ 8.07</text>\n",
       "<text text-anchor=\"start\" x=\"327\" y=\"-125.3\" font-family=\"Helvetica,sans-Serif\" font-size=\"14.00\">gini = 0.492</text>\n",
       "<text text-anchor=\"start\" x=\"321\" y=\"-111.3\" font-family=\"Helvetica,sans-Serif\" font-size=\"14.00\">samples = 96</text>\n",
       "<text text-anchor=\"start\" x=\"313\" y=\"-97.3\" font-family=\"Helvetica,sans-Serif\" font-size=\"14.00\">value = [54, 42]</text>\n",
       "</g>\n",
       "<!-- 5&#45;&gt;9 -->\n",
       "<g id=\"edge8\" class=\"edge\"><title>5&#45;&gt;9</title>\n",
       "<path fill=\"none\" stroke=\"black\" d=\"M426.371,-190.359C418.984,-181.24 410.831,-171.174 403.104,-161.635\"/>\n",
       "<polygon fill=\"black\" stroke=\"black\" points=\"405.754,-159.346 396.74,-153.778 400.315,-163.752 405.754,-159.346\"/>\n",
       "</g>\n",
       "<!-- 10 -->\n",
       "<g id=\"node12\" class=\"node\"><title>10</title>\n",
       "<path fill=\"#6eb7ec\" stroke=\"black\" d=\"M568,-146.5C568,-146.5 468,-146.5 468,-146.5 462,-146.5 456,-140.5 456,-134.5 456,-134.5 456,-107.5 456,-107.5 456,-101.5 462,-95.5 468,-95.5 468,-95.5 568,-95.5 568,-95.5 574,-95.5 580,-101.5 580,-107.5 580,-107.5 580,-134.5 580,-134.5 580,-140.5 574,-146.5 568,-146.5\"/>\n",
       "<text text-anchor=\"start\" x=\"474\" y=\"-132.3\" font-family=\"Helvetica,sans-Serif\" font-size=\"14.00\">gini = 0.332</text>\n",
       "<text text-anchor=\"start\" x=\"468\" y=\"-118.3\" font-family=\"Helvetica,sans-Serif\" font-size=\"14.00\">samples = 19</text>\n",
       "<text text-anchor=\"start\" x=\"464.5\" y=\"-104.3\" font-family=\"Helvetica,sans-Serif\" font-size=\"14.00\">value = [4, 15]</text>\n",
       "</g>\n",
       "<!-- 5&#45;&gt;10 -->\n",
       "<g id=\"edge11\" class=\"edge\"><title>5&#45;&gt;10</title>\n",
       "<path fill=\"none\" stroke=\"black\" d=\"M472.883,-190.359C480.286,-179.142 488.634,-166.494 496.118,-155.154\"/>\n",
       "<polygon fill=\"black\" stroke=\"black\" points=\"499.056,-157.057 501.643,-146.783 493.213,-153.201 499.056,-157.057\"/>\n",
       "</g>\n",
       "<!-- 11 -->\n",
       "<g id=\"node10\" class=\"node\"><title>11</title>\n",
       "<path fill=\"#f4c8a9\" stroke=\"black\" d=\"M351.25,-51.5C351.25,-51.5 242.75,-51.5 242.75,-51.5 236.75,-51.5 230.75,-45.5 230.75,-39.5 230.75,-39.5 230.75,-12.5 230.75,-12.5 230.75,-6.5 236.75,-0.5 242.75,-0.5 242.75,-0.5 351.25,-0.5 351.25,-0.5 357.25,-0.5 363.25,-6.5 363.25,-12.5 363.25,-12.5 363.25,-39.5 363.25,-39.5 363.25,-45.5 357.25,-51.5 351.25,-51.5\"/>\n",
       "<text text-anchor=\"start\" x=\"253\" y=\"-37.3\" font-family=\"Helvetica,sans-Serif\" font-size=\"14.00\">gini = 0.461</text>\n",
       "<text text-anchor=\"start\" x=\"247\" y=\"-23.3\" font-family=\"Helvetica,sans-Serif\" font-size=\"14.00\">samples = 72</text>\n",
       "<text text-anchor=\"start\" x=\"239\" y=\"-9.3\" font-family=\"Helvetica,sans-Serif\" font-size=\"14.00\">value = [46, 26]</text>\n",
       "</g>\n",
       "<!-- 9&#45;&gt;11 -->\n",
       "<g id=\"edge9\" class=\"edge\"><title>9&#45;&gt;11</title>\n",
       "<path fill=\"none\" stroke=\"black\" d=\"M345.74,-88.2548C338.357,-78.9756 330.278,-68.8219 322.858,-59.4968\"/>\n",
       "<polygon fill=\"black\" stroke=\"black\" points=\"325.506,-57.2041 316.541,-51.5582 320.029,-61.5626 325.506,-57.2041\"/>\n",
       "</g>\n",
       "<!-- 12 -->\n",
       "<g id=\"node11\" class=\"node\"><title>12</title>\n",
       "<path fill=\"#9ccef2\" stroke=\"black\" d=\"M494,-51.5C494,-51.5 394,-51.5 394,-51.5 388,-51.5 382,-45.5 382,-39.5 382,-39.5 382,-12.5 382,-12.5 382,-6.5 388,-0.5 394,-0.5 394,-0.5 494,-0.5 494,-0.5 500,-0.5 506,-6.5 506,-12.5 506,-12.5 506,-39.5 506,-39.5 506,-45.5 500,-51.5 494,-51.5\"/>\n",
       "<text text-anchor=\"start\" x=\"400\" y=\"-37.3\" font-family=\"Helvetica,sans-Serif\" font-size=\"14.00\">gini = 0.444</text>\n",
       "<text text-anchor=\"start\" x=\"394\" y=\"-23.3\" font-family=\"Helvetica,sans-Serif\" font-size=\"14.00\">samples = 24</text>\n",
       "<text text-anchor=\"start\" x=\"390.5\" y=\"-9.3\" font-family=\"Helvetica,sans-Serif\" font-size=\"14.00\">value = [8, 16]</text>\n",
       "</g>\n",
       "<!-- 9&#45;&gt;12 -->\n",
       "<g id=\"edge10\" class=\"edge\"><title>9&#45;&gt;12</title>\n",
       "<path fill=\"none\" stroke=\"black\" d=\"M395.918,-88.2548C403.202,-78.9756 411.172,-68.8219 418.492,-59.4968\"/>\n",
       "<polygon fill=\"black\" stroke=\"black\" points=\"421.302,-61.5854 424.723,-51.5582 415.795,-57.2633 421.302,-61.5854\"/>\n",
       "</g>\n",
       "</g>\n",
       "</svg>\n"
      ],
      "text/plain": [
       "<graphviz.files.Source at 0x7f3fd1703940>"
      ]
     },
     "execution_count": 10,
     "metadata": {},
     "output_type": "execute_result"
    }
   ],
   "source": [
    "dot_data = tree.export_graphviz(trf, out_file=None,\n",
    "                     feature_names=X_train.columns,  \n",
    "                     \n",
    "                     filled=True, rounded=True,  \n",
    "                     special_characters=True)  \n",
    "graph = gv.Source(dot_data)  \n",
    "graph "
   ]
  },
  {
   "cell_type": "code",
   "execution_count": 65,
   "metadata": {},
   "outputs": [
    {
     "name": "stdout",
     "output_type": "stream",
     "text": [
      "Porcentaje de datos bien clasificados\n",
      "0.697841726618705\n",
      "número de datos bien clasificados\n"
     ]
    },
    {
     "data": {
      "text/plain": [
       "97"
      ]
     },
     "execution_count": 65,
     "metadata": {},
     "output_type": "execute_result"
    }
   ],
   "source": [
    "yp=trf.predict(X_test)\n",
    "print('Porcentaje de datos bien clasificados')\n",
    "print(accuracy_score(y_test,yp))\n",
    "print('número de datos bien clasificados')\n",
    "accuracy_score(y_test,yp,normalize=False)"
   ]
  },
  {
   "cell_type": "code",
   "execution_count": 55,
   "metadata": {},
   "outputs": [
    {
     "data": {
      "text/plain": [
       "GridSearchCV(cv=None, error_score=nan,\n",
       "             estimator=DecisionTreeClassifier(ccp_alpha=0.016,\n",
       "                                              class_weight=None,\n",
       "                                              criterion='gini', max_depth=None,\n",
       "                                              max_features=None,\n",
       "                                              max_leaf_nodes=None,\n",
       "                                              min_impurity_decrease=0.0,\n",
       "                                              min_impurity_split=None,\n",
       "                                              min_samples_leaf=1,\n",
       "                                              min_samples_split=2,\n",
       "                                              min_weight_fraction_leaf=0.0,\n",
       "                                              presort='deprecated',\n",
       "                                              random_state=None,\n",
       "                                              splitter='best'),\n",
       "             iid='deprecated', n_jobs=None,\n",
       "             param_grid={'criterion': ['gini', 'entropy'],\n",
       "                         'max_depth': [4, 5, 6, 7, 8, 9, 10, 11],\n",
       "                         'max_leaf_nodes': [5, 6, 7, 8, 9, 10, 11, 12, 13, 14,\n",
       "                                            15, 16, 17, 18, 19, 20, 21, 22, 23,\n",
       "                                            24]},\n",
       "             pre_dispatch='2*n_jobs', refit=True, return_train_score=False,\n",
       "             scoring='accuracy', verbose=0)"
      ]
     },
     "execution_count": 55,
     "metadata": {},
     "output_type": "execute_result"
    }
   ],
   "source": [
    "param_grid = {\n",
    "    'max_depth' : [4,5,6,7,8,9,10,11],\n",
    "    'max_leaf_nodes' : [i for i in range(5,25,1)],\n",
    "    'criterion':[\"gini\", \"entropy\"]\n",
    "}\n",
    "model = GridSearchCV(tree.DecisionTreeClassifier(),param_grid, scoring = 'accuracy')\n",
    "model.fit(X_train, y_train)"
   ]
  },
  {
   "cell_type": "code",
   "execution_count": 63,
   "metadata": {},
   "outputs": [
    {
     "name": "stdout",
     "output_type": "stream",
     "text": [
      "model score: 0.626\n",
      "hiperparametros:  {'criterion': 'entropy', 'max_depth': 4, 'max_leaf_nodes': 5}\n"
     ]
    }
   ],
   "source": [
    "print(\"model score: %.3f\" % model.score(X_test, y_test))\n",
    "print (\"hiperparametros: \",str(model.best_params_))"
   ]
  },
  {
   "cell_type": "markdown",
   "metadata": {},
   "source": [
    "La poda de costo mínimo y complejidad es un algoritmo que se utiliza para podar un árbol para evitar un ajuste excesivo. Este algoritmo es parametrizado por $\\alpha\\geq 0$ conocido como parámetro de complejidad. El parámetro de complejidad se utiliza para definir la medida de costo-complejidad, $R_\\alpha(T)$, de un árbol $T$ dado por:\n",
    "$$\n",
    "R_\\alpha(T)=R(T)+\\alpha |T|\n",
    "$$\n",
    "donde $|T|$ es el número de nodos terminales en $T$ y se define tradicionalmente como la tasa total de clasificación errónea de los nodos terminales.\n",
    "DecisionTreeClassifier proporciona parámetros como $\\textit{min_samples_leaf}$ y $\\textit{max_depth}$ para evitar que un árbol se sobreajuste. La poda de costo complejidad proporciona otra opción para controlar el tamaño de un árbol. En DecisionTreeClassifier, esta técnica de poda está parametrizada por el parámetro de complejidad de costo, $\\textit{ccp_alpha}$."
   ]
  },
  {
   "cell_type": "code",
   "execution_count": 41,
   "metadata": {},
   "outputs": [],
   "source": [
    "path = tr.cost_complexity_pruning_path(X_train, y_train)\n",
    "ccp_alphas, impurities = path.ccp_alphas, path.impurities"
   ]
  },
  {
   "cell_type": "code",
   "execution_count": 43,
   "metadata": {},
   "outputs": [
    {
     "data": {
      "text/plain": [
       "Text(0.5, 1.0, 'Impureza vs effective alpha')"
      ]
     },
     "execution_count": 43,
     "metadata": {},
     "output_type": "execute_result"
    },
    {
     "data": {
      "image/png": "[encoded data removed]",
      "text/plain": [
       "<Figure size 432x288 with 1 Axes>"
      ]
     },
     "metadata": {
      "needs_background": "light"
     },
     "output_type": "display_data"
    }
   ],
   "source": [
    "fig, ax = plt.subplots()\n",
    "ax.plot(ccp_alphas[:-1], impurities[:-1], marker='o', drawstyle=\"steps-post\")\n",
    "ax.set_xlabel(\"effective alpha\")\n",
    "ax.set_ylabel(\"total de impureza\")\n",
    "ax.set_title(\"Impureza vs effective alpha\")"
   ]
  },
  {
   "cell_type": "code",
   "execution_count": 47,
   "metadata": {},
   "outputs": [
    {
     "name": "stdout",
     "output_type": "stream",
     "text": [
      "Numero de nodos en el ultmo arbol es: 3 con ccp_alpha: 0.052655936481275034\n"
     ]
    }
   ],
   "source": [
    "models = []\n",
    "for ccp_alpha in ccp_alphas:\n",
    "    mod = tree.DecisionTreeClassifier(random_state=0, ccp_alpha=ccp_alpha)\n",
    "    mod.fit(X_train, y_train)\n",
    "    models.append(mod)\n",
    "print(\"Numero de nodos en el ultimo arbol es: {} con ccp_alpha: {}\".format(\n",
    "      models[-1].tree_.node_count, ccp_alphas[-1]))"
   ]
  },
  {
   "cell_type": "code",
   "execution_count": 48,
   "metadata": {},
   "outputs": [],
   "source": [
    "models = models[:-1]\n",
    "ccp_alphas = ccp_alphas[:-1]"
   ]
  },
  {
   "cell_type": "code",
   "execution_count": 50,
   "metadata": {},
   "outputs": [
    {
     "data": {
      "image/png": "[encoded data removed]",
      "text/plain": [
       "<Figure size 432x288 with 2 Axes>"
      ]
     },
     "metadata": {
      "needs_background": "light"
     },
     "output_type": "display_data"
    }
   ],
   "source": [
    "node_counts = [mod.tree_.node_count for mod in models]\n",
    "depth = [mod.tree_.max_depth for mod in models]\n",
    "fig, ax = plt.subplots(2, 1)\n",
    "ax[0].plot(ccp_alphas, node_counts, marker='o', drawstyle=\"steps-post\")\n",
    "ax[0].set_xlabel(\"alpha\")\n",
    "ax[0].set_ylabel(\"Numero de nodos\")\n",
    "ax[0].set_title(\"Numero de nodos vs alpha\")\n",
    "ax[1].plot(ccp_alphas, depth, marker='o', drawstyle=\"steps-post\")\n",
    "ax[1].set_xlabel(\"alpha\")\n",
    "ax[1].set_ylabel(\"profundidad del arbol\")\n",
    "ax[1].set_title(\"profundidad vs alpha\")\n",
    "fig.tight_layout()"
   ]
  },
  {
   "cell_type": "code",
   "execution_count": 69,
   "metadata": {},
   "outputs": [
    {
     "data": {
      "image/png": "[encoded data removed]",
      "text/plain": [
       "<Figure size 432x288 with 1 Axes>"
      ]
     },
     "metadata": {
      "needs_background": "light"
     },
     "output_type": "display_data"
    }
   ],
   "source": [
    "train_scores = [mod.score(X_train, y_train) for mod in models]\n",
    "test_scores = [mod.score(X_test, y_test) for mod in models]\n",
    "\n",
    "fig, ax = plt.subplots()\n",
    "ax.set_xlabel(\"alpha\")\n",
    "ax.set_ylabel(\"accuracy\")\n",
    "ax.set_title(\"Accuracy vs alpha para datos de training y test\")\n",
    "ax.plot(ccp_alphas, train_scores, marker='o', label=\"train\",\n",
    "        drawstyle=\"steps-post\")\n",
    "ax.plot(ccp_alphas, test_scores, marker='o', label=\"test\",\n",
    "        drawstyle=\"steps-post\")\n",
    "ax.legend()\n",
    "plt.show()"
   ]
  },
  {
   "cell_type": "markdown",
   "metadata": {},
   "source": [
    "Ojo: Scikit-Learn usa una versión optimizada del algoritmo CART el cual es un algoritmo muy similar a C4.5, sin embargo esta implementación no soporta variables categoricas por ahora."
   ]
  },
  {
   "cell_type": "code",
   "execution_count": 71,
   "metadata": {},
   "outputs": [],
   "source": [
    "randomForest = RandomForestClassifier(max_depth=7,n_estimators=100, random_state=0)\n",
    "randomForest.fit(X_train, y_train)\n",
    "y_forest=randomForest.predict(X_test)"
   ]
  },
  {
   "cell_type": "code",
   "execution_count": 74,
   "metadata": {},
   "outputs": [
    {
     "name": "stdout",
     "output_type": "stream",
     "text": [
      "número de datos bien clasificados\n"
     ]
    },
    {
     "data": {
      "text/plain": [
       "96"
      ]
     },
     "execution_count": 74,
     "metadata": {},
     "output_type": "execute_result"
    }
   ],
   "source": [
    "print('número de datos bien clasificados')\n",
    "accuracy_score(y_test,y_forest,normalize=False)"
   ]
  }
 ],
 "metadata": {
  "kernelspec": {
   "display_name": "Python 3",
   "language": "python",
   "name": "python3"
  },
  "language_info": {
   "codemirror_mode": {
    "name": "ipython",
    "version": 3
   },
   "file_extension": ".py",
   "mimetype": "text/x-python",
   "name": "python",
   "nbconvert_exporter": "python",
   "pygments_lexer": "ipython3",
   "version": "3.7.3"
  }
 },
 "nbformat": 4,
 "nbformat_minor": 2
}
