{
 "cells": [
  {
   "cell_type": "code",
   "execution_count": 17,
   "metadata": {},
   "outputs": [],
   "source": [
    "#bibliotecas necesarias para el funcionamiento\n",
    "import pandas                  as pd                     #manejo y manipulación de dataframes\n",
    "import scipy\n",
    "import numpy                   as np                     #soporte matricial y vectorial\n",
    "import matplotlib.pyplot       as plt                    #graficos\n",
    "import joblib\n",
    "from   sklearn.model_selection import GridSearchCV       #optimización de hiperparametros\n",
    "from   sklearn                 import metrics            #metricas de validación\n",
    "from   sklearn.model_selection import train_test_split   #segmentación de muestra\n",
    "from   sklearn.linear_model    import LogisticRegression #clasificador \n",
    "from   sklearn.impute          import SimpleImputer      \n",
    "from   sklearn.compose         import ColumnTransformer\n",
    "from   sklearn.pipeline        import Pipeline\n",
    "from   sklearn.preprocessing   import LabelEncoder\n",
    "from   sklearn.preprocessing   import OneHotEncoder,MinMaxScaler\n",
    "from   sklearn.preprocessing   import KBinsDiscretizer\n",
    "from   sklearn.metrics         import accuracy_score, precision_score, recall_score, f1_score"
   ]
  },
  {
   "cell_type": "code",
   "execution_count": 11,
   "metadata": {},
   "outputs": [
    {
     "data": {
      "text/html": [
       "<div>\n",
       "<style scoped>\n",
       "    .dataframe tbody tr th:only-of-type {\n",
       "        vertical-align: middle;\n",
       "    }\n",
       "\n",
       "    .dataframe tbody tr th {\n",
       "        vertical-align: top;\n",
       "    }\n",
       "\n",
       "    .dataframe thead th {\n",
       "        text-align: right;\n",
       "    }\n",
       "</style>\n",
       "<table border=\"1\" class=\"dataframe\">\n",
       "  <thead>\n",
       "    <tr style=\"text-align: right;\">\n",
       "      <th></th>\n",
       "      <th>Folio</th>\n",
       "      <th>Incumplimiento</th>\n",
       "      <th>Estudiante</th>\n",
       "      <th>Saldo</th>\n",
       "      <th>Ingreso</th>\n",
       "    </tr>\n",
       "  </thead>\n",
       "  <tbody>\n",
       "    <tr>\n",
       "      <th>0</th>\n",
       "      <td>1</td>\n",
       "      <td>No</td>\n",
       "      <td>No</td>\n",
       "      <td>729.526495</td>\n",
       "      <td>44361.625074</td>\n",
       "    </tr>\n",
       "    <tr>\n",
       "      <th>1</th>\n",
       "      <td>2</td>\n",
       "      <td>No</td>\n",
       "      <td>Yes</td>\n",
       "      <td>817.180407</td>\n",
       "      <td>12106.134700</td>\n",
       "    </tr>\n",
       "    <tr>\n",
       "      <th>2</th>\n",
       "      <td>3</td>\n",
       "      <td>No</td>\n",
       "      <td>No</td>\n",
       "      <td>1073.549164</td>\n",
       "      <td>31767.138947</td>\n",
       "    </tr>\n",
       "  </tbody>\n",
       "</table>\n",
       "</div>"
      ],
      "text/plain": [
       "   Folio Incumplimiento Estudiante        Saldo       Ingreso\n",
       "0      1             No         No   729.526495  44361.625074\n",
       "1      2             No        Yes   817.180407  12106.134700\n",
       "2      3             No         No  1073.549164  31767.138947"
      ]
     },
     "execution_count": 11,
     "metadata": {},
     "output_type": "execute_result"
    }
   ],
   "source": [
    "df=pd.read_csv(\"incumplimiento.csv\",sep=\",\",header=0) #hacer la lectura de datos\n",
    "df.head(3)"
   ]
  },
  {
   "cell_type": "code",
   "execution_count": 12,
   "metadata": {},
   "outputs": [
    {
     "data": {
      "text/html": [
       "<div>\n",
       "<style scoped>\n",
       "    .dataframe tbody tr th:only-of-type {\n",
       "        vertical-align: middle;\n",
       "    }\n",
       "\n",
       "    .dataframe tbody tr th {\n",
       "        vertical-align: top;\n",
       "    }\n",
       "\n",
       "    .dataframe thead th {\n",
       "        text-align: right;\n",
       "    }\n",
       "</style>\n",
       "<table border=\"1\" class=\"dataframe\">\n",
       "  <thead>\n",
       "    <tr style=\"text-align: right;\">\n",
       "      <th></th>\n",
       "      <th>Estudiante</th>\n",
       "      <th>Saldo</th>\n",
       "      <th>Ingreso</th>\n",
       "    </tr>\n",
       "  </thead>\n",
       "  <tbody>\n",
       "    <tr>\n",
       "      <th>0</th>\n",
       "      <td>No</td>\n",
       "      <td>729.526495</td>\n",
       "      <td>44361.625074</td>\n",
       "    </tr>\n",
       "  </tbody>\n",
       "</table>\n",
       "</div>"
      ],
      "text/plain": [
       "  Estudiante       Saldo       Ingreso\n",
       "0         No  729.526495  44361.625074"
      ]
     },
     "execution_count": 12,
     "metadata": {},
     "output_type": "execute_result"
    }
   ],
   "source": [
    "y=LabelEncoder().fit_transform(df[\"Incumplimiento\"])\n",
    "X=df.drop([\"Incumplimiento\",\"Folio\"],axis=1)\n",
    "X.head(1)"
   ]
  },
  {
   "cell_type": "code",
   "execution_count": 14,
   "metadata": {},
   "outputs": [],
   "source": [
    "#crea un pipeline para generar el modelo\n",
    "def modelo(X_train, y_train,numeric_features,categorical_features):\n",
    "    numeric_transformer = Pipeline(steps=[\n",
    "    ('imputer', SimpleImputer(missing_values=np.nan, strategy='mean')),\n",
    "     ('scaler', MinMaxScaler())    \n",
    "    ])\n",
    "    categorical_transformer = Pipeline(steps=[\n",
    "        #imputacion por el valor más frecuente\n",
    "    ('imputer', SimpleImputer(strategy='most_frequent', fill_value='missing')),\n",
    "    #onehot encoder para las varibales categoricas    \n",
    "    ('onehot', OneHotEncoder(handle_unknown='ignore'))])\n",
    "    preprocessor = ColumnTransformer(\n",
    "    transformers=[\n",
    "        ('num', numeric_transformer, numeric_features),\n",
    "        ('cat', categorical_transformer, categorical_features)])\n",
    "    #el pipeline con el procesamienot y el claificador\n",
    "    clf = Pipeline(steps=[('preprocessor', preprocessor),\n",
    "                      ('classifier', LogisticRegression(fit_intercept=True,solver='lbfgs',tol=1e-5,max_iter=75))])\n",
    "    modelo=clf.fit(X_train, y_train)\n",
    "    return modelo"
   ]
  },
  {
   "cell_type": "code",
   "execution_count": 18,
   "metadata": {},
   "outputs": [
    {
     "name": "stdout",
     "output_type": "stream",
     "text": [
      "model score: 0.968\n"
     ]
    }
   ],
   "source": [
    "#El score obtenido con el modelo\n",
    "X_train, X_test, y_train, y_test = train_test_split(X, y, test_size=0.3)\n",
    "categorical_features = [\"Estudiante\"]\n",
    "numeric_features=['Saldo','Ingreso']\n",
    "modelo=modelo(X_train, y_train,numeric_features,categorical_features)\n",
    "print(\"model score: %.3f\" % modelo.score(X_test, y_test))\n"
   ]
  },
  {
   "cell_type": "code",
   "execution_count": 20,
   "metadata": {},
   "outputs": [
    {
     "name": "stdout",
     "output_type": "stream",
     "text": [
      "[[2885    2]\n",
      " [  93   20]]\n"
     ]
    }
   ],
   "source": [
    "#la matriz de confusion\n",
    "cm = metrics.confusion_matrix(y_test, y_pred)\n",
    "print(cm) "
   ]
  },
  {
   "cell_type": "code",
   "execution_count": 19,
   "metadata": {},
   "outputs": [
    {
     "data": {
      "text/plain": [
       "0.9090909090909091"
      ]
     },
     "execution_count": 19,
     "metadata": {},
     "output_type": "execute_result"
    }
   ],
   "source": [
    "y_pred=modelo.predict(X_test)\n",
    "precision_score(y_test, y_pred, average='binary')"
   ]
  }
 ],
 "metadata": {
  "kernelspec": {
   "display_name": "Python 3",
   "language": "python",
   "name": "python3"
  },
  "language_info": {
   "codemirror_mode": {
    "name": "ipython",
    "version": 3
   },
   "file_extension": ".py",
   "mimetype": "text/x-python",
   "name": "python",
   "nbconvert_exporter": "python",
   "pygments_lexer": "ipython3",
   "version": "3.7.3"
  }
 },
 "nbformat": 4,
 "nbformat_minor": 4
}
